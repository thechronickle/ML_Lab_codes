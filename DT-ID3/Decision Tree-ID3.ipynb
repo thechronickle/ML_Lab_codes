{
 "cells": [
  {
   "cell_type": "code",
   "execution_count": 1,
   "id": "7bbfe075",
   "metadata": {},
   "outputs": [],
   "source": [
    "import pandas as pd\n",
    "import math\n",
    "import numpy as np\n",
    "data = pd.read_csv(\"dataset.csv\")\n",
    "features = [feat for feat in data]\n",
    "features.remove(\"answer\")"
   ]
  },
  {
   "cell_type": "code",
   "execution_count": 2,
   "id": "d49febc2",
   "metadata": {},
   "outputs": [],
   "source": [
    "class Node:\n",
    "    def __init__(self):\n",
    "        self.children = []\n",
    "        self.value = \"\"\n",
    "        self.isLeaf = False\n",
    "        self.pred = \"\""
   ]
  },
  {
   "cell_type": "code",
   "execution_count": 3,
   "id": "96e4dc52",
   "metadata": {},
   "outputs": [],
   "source": [
    "def entropy(examples):\n",
    "    pos = 0.0\n",
    "    neg = 0.0\n",
    "    for _, row in examples.iterrows():\n",
    "        if row[\"answer\"] == \"yes\":\n",
    "            pos += 1\n",
    "        else:\n",
    "            neg += 1\n",
    "    if pos == 0.0 or neg == 0.0:\n",
    "        return 0.0\n",
    "    else:\n",
    "        p = pos / (pos + neg)\n",
    "        n = neg / (pos + neg)\n",
    "        return -(p * math.log(p, 2) + n * math.log(n, 2))"
   ]
  },
  {
   "cell_type": "code",
   "execution_count": 4,
   "id": "dfcaa461",
   "metadata": {},
   "outputs": [],
   "source": [
    "def info_gain(examples, attr):\n",
    "    uniq = np.unique(examples[attr])\n",
    "    #print (\"\\n\",uniq)\n",
    "    gain = entropy(examples)\n",
    "    #print (\"\\n\",gain)\n",
    "    for u in uniq:\n",
    "        subdata = examples[examples[attr] == u]\n",
    "        #print (\"\\n\",subdata)\n",
    "        sub_e = entropy(subdata)\n",
    "        gain -= (float(len(subdata)) / float(len(examples))) * sub_e\n",
    "        #print (\"\\n\",gain)\n",
    "    return gain"
   ]
  },
  {
   "cell_type": "code",
   "execution_count": 5,
   "id": "de96c2fd",
   "metadata": {},
   "outputs": [],
   "source": [
    "def ID3(examples, attrs):\n",
    "    root = Node()\n",
    "    max_gain = 0\n",
    "    max_feat = \"\"\n",
    "    for feature in attrs:\n",
    "        #print (\"\\n\",examples)\n",
    "        gain = info_gain(examples, feature)\n",
    "        if gain > max_gain:\n",
    "            max_gain = gain\n",
    "            max_feat = feature\n",
    "    root.value = max_feat\n",
    "    #print (\"\\nMax feature attr\",max_feat)\n",
    "    uniq = np.unique(examples[max_feat])\n",
    "    #print (\"\\n\",uniq)\n",
    "    for u in uniq:\n",
    "        #print (\"\\n\",u)\n",
    "        subdata = examples[examples[max_feat] == u]\n",
    "        #print (\"\\n\",subdata)\n",
    "        if entropy(subdata) == 0.0:\n",
    "            newNode = Node()\n",
    "            newNode.isLeaf = True\n",
    "            newNode.value = u\n",
    "            newNode.pred = np.unique(subdata[\"answer\"])\n",
    "            root.children.append(newNode)\n",
    "        else:\n",
    "            dummyNode = Node()\n",
    "            dummyNode.value = u\n",
    "            new_attrs = attrs.copy()\n",
    "            new_attrs.remove(max_feat)\n",
    "            child = ID3(subdata, new_attrs)\n",
    "            dummyNode.children.append(child)\n",
    "            root.children.append(dummyNode)\n",
    "    return root"
   ]
  },
  {
   "cell_type": "code",
   "execution_count": 6,
   "id": "48e3e74d",
   "metadata": {},
   "outputs": [],
   "source": [
    "def printTree(root: Node, depth=0):\n",
    "    for i in range(depth):\n",
    "        print(\"\\t\", end=\"\")\n",
    "    print(root.value, end=\"\")\n",
    "    if root.isLeaf:\n",
    "        print(\" -> \", root.pred)\n",
    "    print()\n",
    "    for child in root.children:\n",
    "        printTree(child, depth + 1)"
   ]
  },
  {
   "cell_type": "code",
   "execution_count": 7,
   "id": "9dce99ca",
   "metadata": {},
   "outputs": [],
   "source": [
    "def classify(root: Node, new):\n",
    "    for child in root.children:\n",
    "        if child.value == new[root.value]:\n",
    "            if child.isLeaf:\n",
    "                print (\"Predicted Label for new example\", new,\" is:\", child.pred)\n",
    "                exit\n",
    "            else:\n",
    "                classify (child.children[0], new)"
   ]
  },
  {
   "cell_type": "code",
   "execution_count": 18,
   "id": "68ff2ddb",
   "metadata": {},
   "outputs": [
    {
     "name": "stdout",
     "output_type": "stream",
     "text": [
      "Decision Tree is:\n",
      "outlook\n",
      "\tovercast ->  ['yes']\n",
      "\n",
      "\train\n",
      "\t\twind\n",
      "\t\t\tstrong ->  ['no']\n",
      "\n",
      "\t\t\tweak ->  ['yes']\n",
      "\n",
      "\tsunny\n",
      "\t\thumidity\n",
      "\t\t\thigh ->  ['no']\n",
      "\n",
      "\t\t\tnormal ->  ['yes']\n",
      "\n",
      "------------------\n",
      "Predicted Label for new example {'outlook': 'sunny', 'temperature': 'hot', 'humidity': 'normal', 'wind': 'strong'}  is: ['yes']\n"
     ]
    }
   ],
   "source": [
    "root = ID3(data, features)\n",
    "print(\"Decision Tree is:\")\n",
    "printTree(root)\n",
    "print (\"------------------\")\n",
    "new = {\"outlook\":\"sunny\", \"temperature\":\"hot\", \"humidity\":\"normal\", \"wind\":\n",
    "\"strong\"}\n",
    "classify (root, new)"
   ]
  },
  {
   "cell_type": "code",
   "execution_count": null,
   "id": "ec74a10c",
   "metadata": {},
   "outputs": [],
   "source": []
  }
 ],
 "metadata": {
  "kernelspec": {
   "display_name": "Python 3 (ipykernel)",
   "language": "python",
   "name": "python3"
  },
  "language_info": {
   "codemirror_mode": {
    "name": "ipython",
    "version": 3
   },
   "file_extension": ".py",
   "mimetype": "text/x-python",
   "name": "python",
   "nbconvert_exporter": "python",
   "pygments_lexer": "ipython3",
   "version": "3.11.4"
  }
 },
 "nbformat": 4,
 "nbformat_minor": 5
}
